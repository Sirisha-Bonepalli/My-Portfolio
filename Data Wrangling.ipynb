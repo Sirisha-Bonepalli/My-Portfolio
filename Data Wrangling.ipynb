{
 "cells": [
  {
   "cell_type": "code",
   "execution_count": 1,
   "metadata": {},
   "outputs": [
    {
     "data": {
      "text/plain": [
       "'Dataset Overview:'"
      ]
     },
     "metadata": {},
     "output_type": "display_data"
    },
    {
     "name": "stdout",
     "output_type": "stream",
     "text": [
      "<class 'pandas.core.frame.DataFrame'>\n",
      "RangeIndex: 606 entries, 0 to 605\n",
      "Data columns (total 29 columns):\n",
      " #   Column                      Non-Null Count  Dtype  \n",
      "---  ------                      --------------  -----  \n",
      " 0   PID                         606 non-null    object \n",
      " 1   LEGAL_TYPE                  606 non-null    object \n",
      " 2   FOLIO                       606 non-null    float64\n",
      " 3   LAND_COORDINATE             606 non-null    int64  \n",
      " 4   ZONING_DISTRICT             606 non-null    object \n",
      " 5   ZONING_CLASSIFICATION       606 non-null    object \n",
      " 6   LOT                         588 non-null    object \n",
      " 7   PLAN                        606 non-null    object \n",
      " 8   BLOCK                       594 non-null    object \n",
      " 9   DISTRICT_LOT                597 non-null    object \n",
      " 10  FROM_CIVIC_NUMBER           0 non-null      float64\n",
      " 11  TO_CIVIC_NUMBER             600 non-null    float64\n",
      " 12  STREET_NAME                 606 non-null    object \n",
      " 13  PROPERTY_POSTAL_CODE        540 non-null    object \n",
      " 14  NARRATIVE_LEGAL_LINE1       606 non-null    object \n",
      " 15  NARRATIVE_LEGAL_LINE2       606 non-null    object \n",
      " 16  NARRATIVE_LEGAL_LINE3       111 non-null    object \n",
      " 17  NARRATIVE_LEGAL_LINE4       15 non-null     object \n",
      " 18  NARRATIVE_LEGAL_LINE5       15 non-null     object \n",
      " 19  CURRENT_LAND_VALUE          483 non-null    float64\n",
      " 20  CURRENT_IMPROVEMENT_VALUE   483 non-null    float64\n",
      " 21  TAX_ASSESSMENT_YEAR         483 non-null    float64\n",
      " 22  PREVIOUS_LAND_VALUE         483 non-null    float64\n",
      " 23  PREVIOUS_IMPROVEMENT_VALUE  483 non-null    float64\n",
      " 24  YEAR_BUILT                  399 non-null    float64\n",
      " 25  BIG_IMPROVEMENT_YEAR        399 non-null    float64\n",
      " 26  TAX_LEVY                    402 non-null    float64\n",
      " 27  NEIGHBOURHOOD_CODE          483 non-null    float64\n",
      " 28  REPORT_YEAR                 483 non-null    float64\n",
      "dtypes: float64(13), int64(1), object(15)\n",
      "memory usage: 137.4+ KB\n"
     ]
    },
    {
     "data": {
      "text/plain": [
       "None"
      ]
     },
     "metadata": {},
     "output_type": "display_data"
    }
   ],
   "source": [
    "import pandas as pd\n",
    "import numpy as np\n",
    "import matplotlib.pyplot as plt\n",
    "import seaborn as sns\n",
    "\n",
    "# Enable inline plotting for Jupyter Notebook\n",
    "%matplotlib inline\n",
    "\n",
    "# Load the dataset\n",
    "dataset_path = r\"C:\\Users\\ASUS\\Downloads\\Sirisha Property tax Dataset.csv\"\n",
    "df = pd.read_csv(dataset_path)\n",
    "\n",
    "# Display basic information\n",
    "display(\"Dataset Overview:\")\n",
    "display(df.info())"
   ]
  },
  {
   "cell_type": "code",
   "execution_count": 2,
   "metadata": {},
   "outputs": [
    {
     "data": {
      "text/plain": [
       "'\\nMissing Values Before Handling:'"
      ]
     },
     "metadata": {},
     "output_type": "display_data"
    },
    {
     "data": {
      "text/plain": [
       "PID                             0\n",
       "LEGAL_TYPE                      0\n",
       "FOLIO                           0\n",
       "LAND_COORDINATE                 0\n",
       "ZONING_DISTRICT                 0\n",
       "ZONING_CLASSIFICATION           0\n",
       "LOT                            18\n",
       "PLAN                            0\n",
       "BLOCK                          12\n",
       "DISTRICT_LOT                    9\n",
       "FROM_CIVIC_NUMBER             606\n",
       "TO_CIVIC_NUMBER                 6\n",
       "STREET_NAME                     0\n",
       "PROPERTY_POSTAL_CODE           66\n",
       "NARRATIVE_LEGAL_LINE1           0\n",
       "NARRATIVE_LEGAL_LINE2           0\n",
       "NARRATIVE_LEGAL_LINE3         495\n",
       "NARRATIVE_LEGAL_LINE4         591\n",
       "NARRATIVE_LEGAL_LINE5         591\n",
       "CURRENT_LAND_VALUE            123\n",
       "CURRENT_IMPROVEMENT_VALUE     123\n",
       "TAX_ASSESSMENT_YEAR           123\n",
       "PREVIOUS_LAND_VALUE           123\n",
       "PREVIOUS_IMPROVEMENT_VALUE    123\n",
       "YEAR_BUILT                    207\n",
       "BIG_IMPROVEMENT_YEAR          207\n",
       "TAX_LEVY                      204\n",
       "NEIGHBOURHOOD_CODE            123\n",
       "REPORT_YEAR                   123\n",
       "dtype: int64"
      ]
     },
     "metadata": {},
     "output_type": "display_data"
    },
    {
     "data": {
      "text/plain": [
       "'\\nMissing Values After Handling:'"
      ]
     },
     "metadata": {},
     "output_type": "display_data"
    },
    {
     "data": {
      "text/plain": [
       "PID                             0\n",
       "LEGAL_TYPE                      0\n",
       "FOLIO                           0\n",
       "LAND_COORDINATE                 0\n",
       "ZONING_DISTRICT                 0\n",
       "ZONING_CLASSIFICATION           0\n",
       "LOT                             0\n",
       "PLAN                            0\n",
       "BLOCK                           0\n",
       "DISTRICT_LOT                    0\n",
       "FROM_CIVIC_NUMBER             606\n",
       "TO_CIVIC_NUMBER                 0\n",
       "STREET_NAME                     0\n",
       "PROPERTY_POSTAL_CODE            0\n",
       "NARRATIVE_LEGAL_LINE1           0\n",
       "NARRATIVE_LEGAL_LINE2           0\n",
       "NARRATIVE_LEGAL_LINE3           0\n",
       "NARRATIVE_LEGAL_LINE4           0\n",
       "NARRATIVE_LEGAL_LINE5           0\n",
       "CURRENT_LAND_VALUE              0\n",
       "CURRENT_IMPROVEMENT_VALUE       0\n",
       "TAX_ASSESSMENT_YEAR             0\n",
       "PREVIOUS_LAND_VALUE             0\n",
       "PREVIOUS_IMPROVEMENT_VALUE      0\n",
       "YEAR_BUILT                      0\n",
       "BIG_IMPROVEMENT_YEAR            0\n",
       "TAX_LEVY                        0\n",
       "NEIGHBOURHOOD_CODE              0\n",
       "REPORT_YEAR                     0\n",
       "dtype: int64"
      ]
     },
     "metadata": {},
     "output_type": "display_data"
    }
   ],
   "source": [
    "# Handling missing values\n",
    "missing_values = df.isnull().sum()\n",
    "display(\"\\nMissing Values Before Handling:\")\n",
    "display(missing_values)\n",
    "\n",
    "# Filling missing numerical values with median\n",
    "num_cols = df.select_dtypes(include=[np.number]).columns\n",
    "df[num_cols] = df[num_cols].fillna(df[num_cols].median())\n",
    "\n",
    "# Filling missing categorical values with mode\n",
    "cat_cols = df.select_dtypes(include=['object']).columns\n",
    "df[cat_cols] = df[cat_cols].apply(lambda x: x.fillna(x.mode()[0]))\n",
    "\n",
    "display(\"\\nMissing Values After Handling:\")\n",
    "display(df.isnull().sum())"
   ]
  },
  {
   "cell_type": "code",
   "execution_count": 3,
   "metadata": {},
   "outputs": [
    {
     "data": {
      "text/plain": [
       "'\\nDuplicate Rows Before Removal: 102'"
      ]
     },
     "metadata": {},
     "output_type": "display_data"
    },
    {
     "data": {
      "text/plain": [
       "'Duplicate Rows After Removal: 0'"
      ]
     },
     "metadata": {},
     "output_type": "display_data"
    }
   ],
   "source": [
    "# Removing duplicate rows\n",
    "duplicates = df.duplicated().sum()\n",
    "display(f\"\\nDuplicate Rows Before Removal: {duplicates}\")\n",
    "df = df.drop_duplicates()\n",
    "display(f\"Duplicate Rows After Removal: {df.duplicated().sum()}\")"
   ]
  },
  {
   "cell_type": "code",
   "execution_count": 4,
   "metadata": {},
   "outputs": [
    {
     "data": {
      "text/plain": [
       "'\\nCategorical Variables Encoded Successfully'"
      ]
     },
     "metadata": {},
     "output_type": "display_data"
    }
   ],
   "source": [
    "# Converting categorical variables into numerical format using label encoding\n",
    "from sklearn.preprocessing import LabelEncoder\n",
    "label_encoders = {}\n",
    "for col in cat_cols:\n",
    "    le = LabelEncoder()\n",
    "    df[col] = le.fit_transform(df[col])\n",
    "    label_encoders[col] = le\n",
    "\n",
    "display(\"\\nCategorical Variables Encoded Successfully\")"
   ]
  },
  {
   "cell_type": "code",
   "execution_count": 5,
   "metadata": {},
   "outputs": [
    {
     "data": {
      "text/plain": [
       "'\\nColumns Renamed Successfully'"
      ]
     },
     "metadata": {},
     "output_type": "display_data"
    }
   ],
   "source": [
    "# Renaming columns to remove special characters and spaces\n",
    "df.columns = df.columns.str.replace(\"[^a-zA-Z0-9_]\", \"\", regex=True).str.lower()\n",
    "display(\"\\nColumns Renamed Successfully\")"
   ]
  },
  {
   "cell_type": "code",
   "execution_count": 6,
   "metadata": {},
   "outputs": [
    {
     "data": {
      "text/plain": [
       "'\\nFinal Processed Dataset:'"
      ]
     },
     "metadata": {},
     "output_type": "display_data"
    },
    {
     "data": {
      "text/html": [
       "<div>\n",
       "<style scoped>\n",
       "    .dataframe tbody tr th:only-of-type {\n",
       "        vertical-align: middle;\n",
       "    }\n",
       "\n",
       "    .dataframe tbody tr th {\n",
       "        vertical-align: top;\n",
       "    }\n",
       "\n",
       "    .dataframe thead th {\n",
       "        text-align: right;\n",
       "    }\n",
       "</style>\n",
       "<table border=\"1\" class=\"dataframe\">\n",
       "  <thead>\n",
       "    <tr style=\"text-align: right;\">\n",
       "      <th></th>\n",
       "      <th>pid</th>\n",
       "      <th>legal_type</th>\n",
       "      <th>folio</th>\n",
       "      <th>land_coordinate</th>\n",
       "      <th>zoning_district</th>\n",
       "      <th>zoning_classification</th>\n",
       "      <th>lot</th>\n",
       "      <th>plan</th>\n",
       "      <th>block</th>\n",
       "      <th>district_lot</th>\n",
       "      <th>...</th>\n",
       "      <th>current_land_value</th>\n",
       "      <th>current_improvement_value</th>\n",
       "      <th>tax_assessment_year</th>\n",
       "      <th>previous_land_value</th>\n",
       "      <th>previous_improvement_value</th>\n",
       "      <th>year_built</th>\n",
       "      <th>big_improvement_year</th>\n",
       "      <th>tax_levy</th>\n",
       "      <th>neighbourhood_code</th>\n",
       "      <th>report_year</th>\n",
       "    </tr>\n",
       "  </thead>\n",
       "  <tbody>\n",
       "    <tr>\n",
       "      <th>0</th>\n",
       "      <td>23</td>\n",
       "      <td>0</td>\n",
       "      <td>8.030430e+11</td>\n",
       "      <td>80304297</td>\n",
       "      <td>0</td>\n",
       "      <td>0</td>\n",
       "      <td>3</td>\n",
       "      <td>12</td>\n",
       "      <td>12</td>\n",
       "      <td>0</td>\n",
       "      <td>...</td>\n",
       "      <td>9450000.0</td>\n",
       "      <td>4727000.0</td>\n",
       "      <td>2021.0</td>\n",
       "      <td>8561000.0</td>\n",
       "      <td>4785000.0</td>\n",
       "      <td>1996.0</td>\n",
       "      <td>1996.0</td>\n",
       "      <td>60075.60</td>\n",
       "      <td>6.0</td>\n",
       "      <td>2021.0</td>\n",
       "    </tr>\n",
       "    <tr>\n",
       "      <th>1</th>\n",
       "      <td>75</td>\n",
       "      <td>0</td>\n",
       "      <td>5.680397e+10</td>\n",
       "      <td>5680397</td>\n",
       "      <td>0</td>\n",
       "      <td>0</td>\n",
       "      <td>3</td>\n",
       "      <td>12</td>\n",
       "      <td>1</td>\n",
       "      <td>0</td>\n",
       "      <td>...</td>\n",
       "      <td>8040000.0</td>\n",
       "      <td>5510000.0</td>\n",
       "      <td>2021.0</td>\n",
       "      <td>7284000.0</td>\n",
       "      <td>5527000.0</td>\n",
       "      <td>2004.0</td>\n",
       "      <td>2004.0</td>\n",
       "      <td>60418.50</td>\n",
       "      <td>6.0</td>\n",
       "      <td>2021.0</td>\n",
       "    </tr>\n",
       "    <tr>\n",
       "      <th>2</th>\n",
       "      <td>4</td>\n",
       "      <td>0</td>\n",
       "      <td>7.960560e+11</td>\n",
       "      <td>79605647</td>\n",
       "      <td>0</td>\n",
       "      <td>0</td>\n",
       "      <td>15</td>\n",
       "      <td>23</td>\n",
       "      <td>0</td>\n",
       "      <td>2</td>\n",
       "      <td>...</td>\n",
       "      <td>13034000.0</td>\n",
       "      <td>77400.0</td>\n",
       "      <td>2024.0</td>\n",
       "      <td>15625.0</td>\n",
       "      <td>73800.0</td>\n",
       "      <td>1958.0</td>\n",
       "      <td>1958.0</td>\n",
       "      <td>43633.00</td>\n",
       "      <td>6.0</td>\n",
       "      <td>2024.0</td>\n",
       "    </tr>\n",
       "    <tr>\n",
       "      <th>3</th>\n",
       "      <td>81</td>\n",
       "      <td>0</td>\n",
       "      <td>8.030530e+11</td>\n",
       "      <td>80305305</td>\n",
       "      <td>0</td>\n",
       "      <td>0</td>\n",
       "      <td>3</td>\n",
       "      <td>12</td>\n",
       "      <td>13</td>\n",
       "      <td>0</td>\n",
       "      <td>...</td>\n",
       "      <td>5994000.0</td>\n",
       "      <td>820000.0</td>\n",
       "      <td>2023.0</td>\n",
       "      <td>5608000.0</td>\n",
       "      <td>787000.0</td>\n",
       "      <td>1990.0</td>\n",
       "      <td>1995.0</td>\n",
       "      <td>29134.55</td>\n",
       "      <td>6.0</td>\n",
       "      <td>2023.0</td>\n",
       "    </tr>\n",
       "    <tr>\n",
       "      <th>4</th>\n",
       "      <td>15</td>\n",
       "      <td>0</td>\n",
       "      <td>7.960570e+11</td>\n",
       "      <td>79605697</td>\n",
       "      <td>0</td>\n",
       "      <td>0</td>\n",
       "      <td>17</td>\n",
       "      <td>1</td>\n",
       "      <td>0</td>\n",
       "      <td>2</td>\n",
       "      <td>...</td>\n",
       "      <td>8328000.0</td>\n",
       "      <td>1363000.0</td>\n",
       "      <td>2020.0</td>\n",
       "      <td>9248000.0</td>\n",
       "      <td>1365000.0</td>\n",
       "      <td>1987.0</td>\n",
       "      <td>1988.0</td>\n",
       "      <td>31456.50</td>\n",
       "      <td>6.0</td>\n",
       "      <td>2020.0</td>\n",
       "    </tr>\n",
       "  </tbody>\n",
       "</table>\n",
       "<p>5 rows × 29 columns</p>\n",
       "</div>"
      ],
      "text/plain": [
       "   pid  legal_type         folio  land_coordinate  zoning_district  \\\n",
       "0   23           0  8.030430e+11         80304297                0   \n",
       "1   75           0  5.680397e+10          5680397                0   \n",
       "2    4           0  7.960560e+11         79605647                0   \n",
       "3   81           0  8.030530e+11         80305305                0   \n",
       "4   15           0  7.960570e+11         79605697                0   \n",
       "\n",
       "   zoning_classification  lot  plan  block  district_lot  ...  \\\n",
       "0                      0    3    12     12             0  ...   \n",
       "1                      0    3    12      1             0  ...   \n",
       "2                      0   15    23      0             2  ...   \n",
       "3                      0    3    12     13             0  ...   \n",
       "4                      0   17     1      0             2  ...   \n",
       "\n",
       "   current_land_value  current_improvement_value  tax_assessment_year  \\\n",
       "0           9450000.0                  4727000.0               2021.0   \n",
       "1           8040000.0                  5510000.0               2021.0   \n",
       "2          13034000.0                    77400.0               2024.0   \n",
       "3           5994000.0                   820000.0               2023.0   \n",
       "4           8328000.0                  1363000.0               2020.0   \n",
       "\n",
       "   previous_land_value  previous_improvement_value  year_built  \\\n",
       "0            8561000.0                   4785000.0      1996.0   \n",
       "1            7284000.0                   5527000.0      2004.0   \n",
       "2              15625.0                     73800.0      1958.0   \n",
       "3            5608000.0                    787000.0      1990.0   \n",
       "4            9248000.0                   1365000.0      1987.0   \n",
       "\n",
       "   big_improvement_year  tax_levy  neighbourhood_code  report_year  \n",
       "0                1996.0  60075.60                 6.0       2021.0  \n",
       "1                2004.0  60418.50                 6.0       2021.0  \n",
       "2                1958.0  43633.00                 6.0       2024.0  \n",
       "3                1995.0  29134.55                 6.0       2023.0  \n",
       "4                1988.0  31456.50                 6.0       2020.0  \n",
       "\n",
       "[5 rows x 29 columns]"
      ]
     },
     "metadata": {},
     "output_type": "display_data"
    }
   ],
   "source": [
    "# Checking final dataset structure\n",
    "display(\"\\nFinal Processed Dataset:\")\n",
    "display(df.head())"
   ]
  },
  {
   "cell_type": "code",
   "execution_count": 7,
   "metadata": {},
   "outputs": [
    {
     "data": {
      "text/plain": [
       "'Data Wrangling Completed Successfully!'"
      ]
     },
     "metadata": {},
     "output_type": "display_data"
    }
   ],
   "source": [
    "display(\"Data Wrangling Completed Successfully!\")"
   ]
  }
 ],
 "metadata": {
  "kernelspec": {
   "display_name": "Python 3",
   "language": "python",
   "name": "python3"
  },
  "language_info": {
   "codemirror_mode": {
    "name": "ipython",
    "version": 3
   },
   "file_extension": ".py",
   "mimetype": "text/x-python",
   "name": "python",
   "nbconvert_exporter": "python",
   "pygments_lexer": "ipython3",
   "version": "3.13.0"
  }
 },
 "nbformat": 4,
 "nbformat_minor": 2
}
